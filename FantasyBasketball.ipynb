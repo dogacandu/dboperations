{
 "cells": [
  {
   "cell_type": "markdown",
   "metadata": {},
   "source": [
    "Here I will try to explore fantasy basketball data and create player pricing algorithms using linear regression and random forest. Dataset(https://www.kaggle.com/dogacandu/fantasy-basketball-dataset) contains:\n",
    "\n",
    "players.json\n",
    "\n",
    "    File format: JSON\n",
    "    File contains metadata, fantasy scores and prices for players in Euroleague\n",
    "    \n",
    "\n",
    "players_metadata.csv\n",
    "\n",
    "    File format: csv\n",
    "    File contains position and nationality for each player   \n",
    "    \n",
    "    \n",
    "#### first import necessary modules"
   ]
  },
  {
   "cell_type": "code",
   "execution_count": 1,
   "metadata": {},
   "outputs": [],
   "source": [
    "import pandas as pd\n",
    "%matplotlib inline\n",
    "import matplotlib.pyplot as plt\n",
    "import seaborn as sns\n",
    "\n",
    "\n"
   ]
  },
  {
   "cell_type": "markdown",
   "metadata": {},
   "source": [
    "####  read json file"
   ]
  },
  {
   "cell_type": "code",
   "execution_count": 2,
   "metadata": {},
   "outputs": [
    {
     "data": {
      "text/html": [
       "<div>\n",
       "<style scoped>\n",
       "    .dataframe tbody tr th:only-of-type {\n",
       "        vertical-align: middle;\n",
       "    }\n",
       "\n",
       "    .dataframe tbody tr th {\n",
       "        vertical-align: top;\n",
       "    }\n",
       "\n",
       "    .dataframe thead th {\n",
       "        text-align: right;\n",
       "    }\n",
       "</style>\n",
       "<table border=\"1\" class=\"dataframe\">\n",
       "  <thead>\n",
       "    <tr style=\"text-align: right;\">\n",
       "      <th></th>\n",
       "      <th>cost</th>\n",
       "      <th>first_name</th>\n",
       "      <th>id</th>\n",
       "      <th>is_bye</th>\n",
       "      <th>last_name</th>\n",
       "      <th>locked</th>\n",
       "      <th>notes</th>\n",
       "      <th>positions</th>\n",
       "      <th>squad_id</th>\n",
       "      <th>stats</th>\n",
       "      <th>status</th>\n",
       "    </tr>\n",
       "  </thead>\n",
       "  <tbody>\n",
       "    <tr>\n",
       "      <th>0</th>\n",
       "      <td>350000</td>\n",
       "      <td>Janis</td>\n",
       "      <td>1</td>\n",
       "      <td>0</td>\n",
       "      <td>Strelnieks</td>\n",
       "      <td>0</td>\n",
       "      <td>{}</td>\n",
       "      <td>[2]</td>\n",
       "      <td>12</td>\n",
       "      <td>{'scores': {'33': 3, '32': 8.8, '31': -2, '30'...</td>\n",
       "      <td>playing</td>\n",
       "    </tr>\n",
       "    <tr>\n",
       "      <th>1</th>\n",
       "      <td>680000</td>\n",
       "      <td>Antanas</td>\n",
       "      <td>2</td>\n",
       "      <td>0</td>\n",
       "      <td>Kavaliauskas</td>\n",
       "      <td>0</td>\n",
       "      <td>{}</td>\n",
       "      <td>[1]</td>\n",
       "      <td>16</td>\n",
       "      <td>{'scores': {'33': 4.4, '32': 13, '31': 2.2, '3...</td>\n",
       "      <td>playing</td>\n",
       "    </tr>\n",
       "    <tr>\n",
       "      <th>2</th>\n",
       "      <td>460000</td>\n",
       "      <td>Dairis</td>\n",
       "      <td>3</td>\n",
       "      <td>1</td>\n",
       "      <td>Bertans</td>\n",
       "      <td>0</td>\n",
       "      <td>{}</td>\n",
       "      <td>[3]</td>\n",
       "      <td>7</td>\n",
       "      <td>{'scores': {'30': 1, '29': 5.5, '28': 0, '27':...</td>\n",
       "      <td>not-playing</td>\n",
       "    </tr>\n",
       "    <tr>\n",
       "      <th>3</th>\n",
       "      <td>280000</td>\n",
       "      <td>Nikos</td>\n",
       "      <td>4</td>\n",
       "      <td>0</td>\n",
       "      <td>Pappas</td>\n",
       "      <td>0</td>\n",
       "      <td>{}</td>\n",
       "      <td>[3]</td>\n",
       "      <td>13</td>\n",
       "      <td>{'scores': {'33': -1, '32': -2, '31': -1.8, '3...</td>\n",
       "      <td>playing</td>\n",
       "    </tr>\n",
       "    <tr>\n",
       "      <th>4</th>\n",
       "      <td>180000</td>\n",
       "      <td>Sinan</td>\n",
       "      <td>5</td>\n",
       "      <td>0</td>\n",
       "      <td>Guler</td>\n",
       "      <td>0</td>\n",
       "      <td>{}</td>\n",
       "      <td>[2, 3]</td>\n",
       "      <td>9</td>\n",
       "      <td>{'scores': {'23': 2.2, '22': 0, '21': 2, '19':...</td>\n",
       "      <td>playing</td>\n",
       "    </tr>\n",
       "  </tbody>\n",
       "</table>\n",
       "</div>"
      ],
      "text/plain": [
       "     cost first_name  id  is_bye     last_name  locked notes positions  \\\n",
       "0  350000      Janis   1       0    Strelnieks       0    {}       [2]   \n",
       "1  680000    Antanas   2       0  Kavaliauskas       0    {}       [1]   \n",
       "2  460000     Dairis   3       1       Bertans       0    {}       [3]   \n",
       "3  280000      Nikos   4       0        Pappas       0    {}       [3]   \n",
       "4  180000      Sinan   5       0         Guler       0    {}    [2, 3]   \n",
       "\n",
       "   squad_id                                              stats       status  \n",
       "0        12  {'scores': {'33': 3, '32': 8.8, '31': -2, '30'...      playing  \n",
       "1        16  {'scores': {'33': 4.4, '32': 13, '31': 2.2, '3...      playing  \n",
       "2         7  {'scores': {'30': 1, '29': 5.5, '28': 0, '27':...  not-playing  \n",
       "3        13  {'scores': {'33': -1, '32': -2, '31': -1.8, '3...      playing  \n",
       "4         9  {'scores': {'23': 2.2, '22': 0, '21': 2, '19':...      playing  "
      ]
     },
     "execution_count": 2,
     "metadata": {},
     "output_type": "execute_result"
    }
   ],
   "source": [
    "data=pd.read_json(\"/home/dogacan/Documents/interview/fantasy/players.json\")\n",
    "data.head()"
   ]
  },
  {
   "cell_type": "code",
   "execution_count": 66,
   "metadata": {},
   "outputs": [
    {
     "name": "stdout",
     "output_type": "stream",
     "text": [
      "playing number is 112\n",
      "not-playing number is 110\n",
      "transferred number is 21\n",
      "injured number is 24\n",
      "uncertain number is 7\n"
     ]
    }
   ],
   "source": [
    "for field in list(data.status.unique()):\n",
    "    print(\"{} number is {}\".format(str(field), data[data.status==field]['status'].count()))\n",
    "\n"
   ]
  },
  {
   "cell_type": "markdown",
   "metadata": {},
   "source": [
    "#### Lets look a bit more in detail to the stats column"
   ]
  },
  {
   "cell_type": "code",
   "execution_count": 3,
   "metadata": {},
   "outputs": [
    {
     "data": {
      "text/html": [
       "<div>\n",
       "<style scoped>\n",
       "    .dataframe tbody tr th:only-of-type {\n",
       "        vertical-align: middle;\n",
       "    }\n",
       "\n",
       "    .dataframe tbody tr th {\n",
       "        vertical-align: top;\n",
       "    }\n",
       "\n",
       "    .dataframe thead th {\n",
       "        text-align: right;\n",
       "    }\n",
       "</style>\n",
       "<table border=\"1\" class=\"dataframe\">\n",
       "  <thead>\n",
       "    <tr style=\"text-align: right;\">\n",
       "      <th></th>\n",
       "      <th>scores</th>\n",
       "      <th>match_scores</th>\n",
       "      <th>round_rank</th>\n",
       "      <th>season_rank</th>\n",
       "      <th>games_played</th>\n",
       "      <th>total_points</th>\n",
       "      <th>avg_points</th>\n",
       "      <th>high_score</th>\n",
       "      <th>low_score</th>\n",
       "      <th>last_3_avg</th>\n",
       "      <th>last_5_avg</th>\n",
       "      <th>selections</th>\n",
       "      <th>owned_by</th>\n",
       "      <th>prices</th>\n",
       "      <th>player_id</th>\n",
       "    </tr>\n",
       "  </thead>\n",
       "  <tbody>\n",
       "    <tr>\n",
       "      <th>0</th>\n",
       "      <td>{'33': 3, '32': 8.8, '31': -2, '30': 6, '29': ...</td>\n",
       "      <td>{'2017330251': 3, '2017320247': 8.8, '20173102...</td>\n",
       "      <td>59</td>\n",
       "      <td>116</td>\n",
       "      <td>33</td>\n",
       "      <td>235.9</td>\n",
       "      <td>7.15</td>\n",
       "      <td>24.2</td>\n",
       "      <td>-3.0</td>\n",
       "      <td>3.27</td>\n",
       "      <td>3.36</td>\n",
       "      <td>4966</td>\n",
       "      <td>5.00</td>\n",
       "      <td>{'1': 1000000, '2': 970000, '3': 890000, '4': ...</td>\n",
       "      <td>1</td>\n",
       "    </tr>\n",
       "    <tr>\n",
       "      <th>1</th>\n",
       "      <td>{'33': 4.4, '32': 13, '31': 2.2, '30': 5.5, '2...</td>\n",
       "      <td>{'2017330251': 4.4, '2017320247': 13, '2017310...</td>\n",
       "      <td>50</td>\n",
       "      <td>141</td>\n",
       "      <td>32</td>\n",
       "      <td>175.6</td>\n",
       "      <td>5.49</td>\n",
       "      <td>20.9</td>\n",
       "      <td>-2.7</td>\n",
       "      <td>6.53</td>\n",
       "      <td>7.66</td>\n",
       "      <td>2172</td>\n",
       "      <td>2.19</td>\n",
       "      <td>{'1': 720000, '2': 730000, '3': 730000, '4': 6...</td>\n",
       "      <td>2</td>\n",
       "    </tr>\n",
       "    <tr>\n",
       "      <th>2</th>\n",
       "      <td>{'30': 1, '29': 5.5, '28': 0, '27': 10, '26': ...</td>\n",
       "      <td>{'2017300234': 1, '2017290227': 5.5, '20172802...</td>\n",
       "      <td>0</td>\n",
       "      <td>144</td>\n",
       "      <td>28</td>\n",
       "      <td>151.9</td>\n",
       "      <td>5.43</td>\n",
       "      <td>17.0</td>\n",
       "      <td>-3.0</td>\n",
       "      <td>2.17</td>\n",
       "      <td>4.70</td>\n",
       "      <td>1924</td>\n",
       "      <td>1.94</td>\n",
       "      <td>{'1': 820000, '2': 850000, '3': 960000, '4': 1...</td>\n",
       "      <td>3</td>\n",
       "    </tr>\n",
       "  </tbody>\n",
       "</table>\n",
       "</div>"
      ],
      "text/plain": [
       "                                              scores  \\\n",
       "0  {'33': 3, '32': 8.8, '31': -2, '30': 6, '29': ...   \n",
       "1  {'33': 4.4, '32': 13, '31': 2.2, '30': 5.5, '2...   \n",
       "2  {'30': 1, '29': 5.5, '28': 0, '27': 10, '26': ...   \n",
       "\n",
       "                                        match_scores  round_rank  season_rank  \\\n",
       "0  {'2017330251': 3, '2017320247': 8.8, '20173102...          59          116   \n",
       "1  {'2017330251': 4.4, '2017320247': 13, '2017310...          50          141   \n",
       "2  {'2017300234': 1, '2017290227': 5.5, '20172802...           0          144   \n",
       "\n",
       "   games_played  total_points  avg_points  high_score  low_score  last_3_avg  \\\n",
       "0            33         235.9        7.15        24.2       -3.0        3.27   \n",
       "1            32         175.6        5.49        20.9       -2.7        6.53   \n",
       "2            28         151.9        5.43        17.0       -3.0        2.17   \n",
       "\n",
       "   last_5_avg  selections  owned_by  \\\n",
       "0        3.36        4966      5.00   \n",
       "1        7.66        2172      2.19   \n",
       "2        4.70        1924      1.94   \n",
       "\n",
       "                                              prices  player_id  \n",
       "0  {'1': 1000000, '2': 970000, '3': 890000, '4': ...          1  \n",
       "1  {'1': 720000, '2': 730000, '3': 730000, '4': 6...          2  \n",
       "2  {'1': 820000, '2': 850000, '3': 960000, '4': 1...          3  "
      ]
     },
     "execution_count": 3,
     "metadata": {},
     "output_type": "execute_result"
    }
   ],
   "source": [
    "stats=data.stats.apply(pd.Series)\n",
    "stats['player_id']=data.id\n",
    "stats.head(3)"
   ]
  },
  {
   "cell_type": "markdown",
   "metadata": {},
   "source": [
    "####   Describe&visualize player costs, avg_points, selections :"
   ]
  },
  {
   "cell_type": "code",
   "execution_count": 4,
   "metadata": {},
   "outputs": [
    {
     "data": {
      "text/plain": [
       "<seaborn.axisgrid.PairGrid at 0x7fb4c05e2ef0>"
      ]
     },
     "execution_count": 4,
     "metadata": {},
     "output_type": "execute_result"
    },
    {
     "data": {
      "image/png": "[encoded data removed]",
      "text/plain": [
       "<Figure size 540x540 with 12 Axes>"
      ]
     },
     "metadata": {},
     "output_type": "display_data"
    }
   ],
   "source": [
    "from IPython.core.interactiveshell import InteractiveShell\n",
    "InteractiveShell.ast_node_interactivity = \"all\"  #to display more than one output\n",
    "data.cost.describe().astype(int)\n",
    "stats.avg_points.describe() \n",
    "stats.selections.describe()\n",
    "df_2=pd.DataFrame()\n",
    "df_2['cost']=data.cost\n",
    "df_2['avg_points']=stats.avg_points\n",
    "df_2['selections']=stats.selections\n",
    "sns.set()\n",
    "sns.pairplot(df_2)"
   ]
  },
  {
   "cell_type": "markdown",
   "metadata": {},
   "source": [
    "-  avg_points seems to correlated with player cost"
   ]
  },
  {
   "cell_type": "markdown",
   "metadata": {},
   "source": [
    "####  Let's read csv file"
   ]
  },
  {
   "cell_type": "code",
   "execution_count": 5,
   "metadata": {},
   "outputs": [
    {
     "data": {
      "text/html": [
       "<div>\n",
       "<style scoped>\n",
       "    .dataframe tbody tr th:only-of-type {\n",
       "        vertical-align: middle;\n",
       "    }\n",
       "\n",
       "    .dataframe tbody tr th {\n",
       "        vertical-align: top;\n",
       "    }\n",
       "\n",
       "    .dataframe thead th {\n",
       "        text-align: right;\n",
       "    }\n",
       "</style>\n",
       "<table border=\"1\" class=\"dataframe\">\n",
       "  <thead>\n",
       "    <tr style=\"text-align: right;\">\n",
       "      <th></th>\n",
       "      <th>Player_Name</th>\n",
       "      <th>position</th>\n",
       "      <th>nationality</th>\n",
       "    </tr>\n",
       "  </thead>\n",
       "  <tbody>\n",
       "    <tr>\n",
       "      <th>0</th>\n",
       "      <td>ABALDE, ALBERTO</td>\n",
       "      <td>Forward</td>\n",
       "      <td>Spain</td>\n",
       "    </tr>\n",
       "    <tr>\n",
       "      <th>1</th>\n",
       "      <td>ABASS, AWUDU</td>\n",
       "      <td>Guard</td>\n",
       "      <td>Italy</td>\n",
       "    </tr>\n",
       "    <tr>\n",
       "      <th>2</th>\n",
       "      <td>ADAMS, JOSH</td>\n",
       "      <td>Guard</td>\n",
       "      <td>United States of America</td>\n",
       "    </tr>\n",
       "  </tbody>\n",
       "</table>\n",
       "</div>"
      ],
      "text/plain": [
       "       Player_Name position               nationality\n",
       "0  ABALDE, ALBERTO  Forward                     Spain\n",
       "1     ABASS, AWUDU    Guard                     Italy\n",
       "2      ADAMS, JOSH    Guard  United States of America"
      ]
     },
     "execution_count": 5,
     "metadata": {},
     "output_type": "execute_result"
    }
   ],
   "source": [
    "player_df=pd.read_csv(\"/home/dogacan/Documents/interview/fantasy/players_metadata.csv\",delimiter=\"|\")\n",
    "player_df.head(3)"
   ]
  },
  {
   "cell_type": "markdown",
   "metadata": {},
   "source": [
    "####  to match names, first upper first and last names in data and combine them:\n",
    "\n"
   ]
  },
  {
   "cell_type": "code",
   "execution_count": 6,
   "metadata": {},
   "outputs": [
    {
     "data": {
      "text/html": [
       "<div>\n",
       "<style scoped>\n",
       "    .dataframe tbody tr th:only-of-type {\n",
       "        vertical-align: middle;\n",
       "    }\n",
       "\n",
       "    .dataframe tbody tr th {\n",
       "        vertical-align: top;\n",
       "    }\n",
       "\n",
       "    .dataframe thead th {\n",
       "        text-align: right;\n",
       "    }\n",
       "</style>\n",
       "<table border=\"1\" class=\"dataframe\">\n",
       "  <thead>\n",
       "    <tr style=\"text-align: right;\">\n",
       "      <th></th>\n",
       "      <th>cost</th>\n",
       "      <th>first_name</th>\n",
       "      <th>id</th>\n",
       "      <th>is_bye</th>\n",
       "      <th>last_name</th>\n",
       "      <th>locked</th>\n",
       "      <th>notes</th>\n",
       "      <th>positions</th>\n",
       "      <th>squad_id</th>\n",
       "      <th>stats</th>\n",
       "      <th>status</th>\n",
       "      <th>Player_Name</th>\n",
       "      <th>avg_points</th>\n",
       "    </tr>\n",
       "  </thead>\n",
       "  <tbody>\n",
       "    <tr>\n",
       "      <th>0</th>\n",
       "      <td>350000</td>\n",
       "      <td>Janis</td>\n",
       "      <td>1</td>\n",
       "      <td>0</td>\n",
       "      <td>Strelnieks</td>\n",
       "      <td>0</td>\n",
       "      <td>{}</td>\n",
       "      <td>[2]</td>\n",
       "      <td>12</td>\n",
       "      <td>{'scores': {'33': 3, '32': 8.8, '31': -2, '30'...</td>\n",
       "      <td>playing</td>\n",
       "      <td>STRELNIEKS, JANIS</td>\n",
       "      <td>7.15</td>\n",
       "    </tr>\n",
       "    <tr>\n",
       "      <th>1</th>\n",
       "      <td>680000</td>\n",
       "      <td>Antanas</td>\n",
       "      <td>2</td>\n",
       "      <td>0</td>\n",
       "      <td>Kavaliauskas</td>\n",
       "      <td>0</td>\n",
       "      <td>{}</td>\n",
       "      <td>[1]</td>\n",
       "      <td>16</td>\n",
       "      <td>{'scores': {'33': 4.4, '32': 13, '31': 2.2, '3...</td>\n",
       "      <td>playing</td>\n",
       "      <td>KAVALIAUSKAS, ANTANAS</td>\n",
       "      <td>5.49</td>\n",
       "    </tr>\n",
       "    <tr>\n",
       "      <th>2</th>\n",
       "      <td>460000</td>\n",
       "      <td>Dairis</td>\n",
       "      <td>3</td>\n",
       "      <td>1</td>\n",
       "      <td>Bertans</td>\n",
       "      <td>0</td>\n",
       "      <td>{}</td>\n",
       "      <td>[3]</td>\n",
       "      <td>7</td>\n",
       "      <td>{'scores': {'30': 1, '29': 5.5, '28': 0, '27':...</td>\n",
       "      <td>not-playing</td>\n",
       "      <td>BERTANS, DAIRIS</td>\n",
       "      <td>5.43</td>\n",
       "    </tr>\n",
       "  </tbody>\n",
       "</table>\n",
       "</div>"
      ],
      "text/plain": [
       "     cost first_name  id  is_bye     last_name  locked notes positions  \\\n",
       "0  350000      Janis   1       0    Strelnieks       0    {}       [2]   \n",
       "1  680000    Antanas   2       0  Kavaliauskas       0    {}       [1]   \n",
       "2  460000     Dairis   3       1       Bertans       0    {}       [3]   \n",
       "\n",
       "   squad_id                                              stats       status  \\\n",
       "0        12  {'scores': {'33': 3, '32': 8.8, '31': -2, '30'...      playing   \n",
       "1        16  {'scores': {'33': 4.4, '32': 13, '31': 2.2, '3...      playing   \n",
       "2         7  {'scores': {'30': 1, '29': 5.5, '28': 0, '27':...  not-playing   \n",
       "\n",
       "             Player_Name  avg_points  \n",
       "0      STRELNIEKS, JANIS        7.15  \n",
       "1  KAVALIAUSKAS, ANTANAS        5.49  \n",
       "2        BERTANS, DAIRIS        5.43  "
      ]
     },
     "execution_count": 6,
     "metadata": {},
     "output_type": "execute_result"
    }
   ],
   "source": [
    "data['Player_Name']=data.last_name.str.upper()+\", \"+data.first_name.str.upper()\n",
    "data['avg_points']=stats.avg_points\n",
    "data.head(3)\n"
   ]
  },
  {
   "cell_type": "markdown",
   "metadata": {},
   "source": [
    "####  now I can merge "
   ]
  },
  {
   "cell_type": "code",
   "execution_count": 7,
   "metadata": {},
   "outputs": [
    {
     "data": {
      "text/html": [
       "<div>\n",
       "<style scoped>\n",
       "    .dataframe tbody tr th:only-of-type {\n",
       "        vertical-align: middle;\n",
       "    }\n",
       "\n",
       "    .dataframe tbody tr th {\n",
       "        vertical-align: top;\n",
       "    }\n",
       "\n",
       "    .dataframe thead th {\n",
       "        text-align: right;\n",
       "    }\n",
       "</style>\n",
       "<table border=\"1\" class=\"dataframe\">\n",
       "  <thead>\n",
       "    <tr style=\"text-align: right;\">\n",
       "      <th></th>\n",
       "      <th>cost</th>\n",
       "      <th>first_name</th>\n",
       "      <th>id</th>\n",
       "      <th>is_bye</th>\n",
       "      <th>last_name</th>\n",
       "      <th>locked</th>\n",
       "      <th>notes</th>\n",
       "      <th>positions</th>\n",
       "      <th>squad_id</th>\n",
       "      <th>stats</th>\n",
       "      <th>status</th>\n",
       "      <th>Player_Name</th>\n",
       "      <th>avg_points</th>\n",
       "      <th>position</th>\n",
       "      <th>nationality</th>\n",
       "    </tr>\n",
       "  </thead>\n",
       "  <tbody>\n",
       "    <tr>\n",
       "      <th>0</th>\n",
       "      <td>350000</td>\n",
       "      <td>Janis</td>\n",
       "      <td>1</td>\n",
       "      <td>0</td>\n",
       "      <td>Strelnieks</td>\n",
       "      <td>0</td>\n",
       "      <td>{}</td>\n",
       "      <td>[2]</td>\n",
       "      <td>12</td>\n",
       "      <td>{'scores': {'33': 3, '32': 8.8, '31': -2, '30'...</td>\n",
       "      <td>playing</td>\n",
       "      <td>STRELNIEKS, JANIS</td>\n",
       "      <td>7.15</td>\n",
       "      <td>Guard</td>\n",
       "      <td>Latvia</td>\n",
       "    </tr>\n",
       "    <tr>\n",
       "      <th>1</th>\n",
       "      <td>680000</td>\n",
       "      <td>Antanas</td>\n",
       "      <td>2</td>\n",
       "      <td>0</td>\n",
       "      <td>Kavaliauskas</td>\n",
       "      <td>0</td>\n",
       "      <td>{}</td>\n",
       "      <td>[1]</td>\n",
       "      <td>16</td>\n",
       "      <td>{'scores': {'33': 4.4, '32': 13, '31': 2.2, '3...</td>\n",
       "      <td>playing</td>\n",
       "      <td>KAVALIAUSKAS, ANTANAS</td>\n",
       "      <td>5.49</td>\n",
       "      <td>Center</td>\n",
       "      <td>Lithuania</td>\n",
       "    </tr>\n",
       "    <tr>\n",
       "      <th>2</th>\n",
       "      <td>460000</td>\n",
       "      <td>Dairis</td>\n",
       "      <td>3</td>\n",
       "      <td>1</td>\n",
       "      <td>Bertans</td>\n",
       "      <td>0</td>\n",
       "      <td>{}</td>\n",
       "      <td>[3]</td>\n",
       "      <td>7</td>\n",
       "      <td>{'scores': {'30': 1, '29': 5.5, '28': 0, '27':...</td>\n",
       "      <td>not-playing</td>\n",
       "      <td>BERTANS, DAIRIS</td>\n",
       "      <td>5.43</td>\n",
       "      <td>Guard</td>\n",
       "      <td>Latvia</td>\n",
       "    </tr>\n",
       "  </tbody>\n",
       "</table>\n",
       "</div>"
      ],
      "text/plain": [
       "     cost first_name  id  is_bye     last_name  locked notes positions  \\\n",
       "0  350000      Janis   1       0    Strelnieks       0    {}       [2]   \n",
       "1  680000    Antanas   2       0  Kavaliauskas       0    {}       [1]   \n",
       "2  460000     Dairis   3       1       Bertans       0    {}       [3]   \n",
       "\n",
       "   squad_id                                              stats       status  \\\n",
       "0        12  {'scores': {'33': 3, '32': 8.8, '31': -2, '30'...      playing   \n",
       "1        16  {'scores': {'33': 4.4, '32': 13, '31': 2.2, '3...      playing   \n",
       "2         7  {'scores': {'30': 1, '29': 5.5, '28': 0, '27':...  not-playing   \n",
       "\n",
       "             Player_Name  avg_points position nationality  \n",
       "0      STRELNIEKS, JANIS        7.15    Guard      Latvia  \n",
       "1  KAVALIAUSKAS, ANTANAS        5.49   Center   Lithuania  \n",
       "2        BERTANS, DAIRIS        5.43    Guard      Latvia  "
      ]
     },
     "execution_count": 7,
     "metadata": {},
     "output_type": "execute_result"
    }
   ],
   "source": [
    "merged_df=pd.merge(data,player_df,how='inner',left_on='Player_Name',right_on='Player_Name')\n",
    "merged_df.head(3)"
   ]
  },
  {
   "cell_type": "markdown",
   "metadata": {},
   "source": [
    "#### most common 3 nationalities among players and boxplots for avg_points for each type of position for the top-3 nationalities are:"
   ]
  },
  {
   "cell_type": "code",
   "execution_count": 8,
   "metadata": {},
   "outputs": [
    {
     "data": {
      "text/plain": [
       "nationality\n",
       "United States of America    67\n",
       "Serbia                      24\n",
       "Spain                       21\n",
       "dtype: int64"
      ]
     },
     "execution_count": 8,
     "metadata": {},
     "output_type": "execute_result"
    },
    {
     "data": {
      "text/plain": [
       "<matplotlib.axes._subplots.AxesSubplot at 0x7fb4bd168e80>"
      ]
     },
     "execution_count": 8,
     "metadata": {},
     "output_type": "execute_result"
    },
    {
     "data": {
      "image/png": "[encoded data removed]",
      "text/plain": [
       "<Figure size 432x288 with 1 Axes>"
      ]
     },
     "metadata": {},
     "output_type": "display_data"
    }
   ],
   "source": [
    "merged_df.groupby('nationality').size().sort_values(ascending=False).head(3)\n",
    "top3=merged_df[merged_df.nationality.isin(['United States of America','Serbia','Spain'])]\n",
    "sns.boxplot(x='nationality',y='avg_points',hue='position',data=top3)"
   ]
  },
  {
   "cell_type": "markdown",
   "metadata": {},
   "source": [
    "#### Now I want to extract scores, price change and percentage price change for each player-round pair. I will also create columns for previous round score and price: "
   ]
  },
  {
   "cell_type": "code",
   "execution_count": 11,
   "metadata": {},
   "outputs": [
    {
     "data": {
      "text/html": [
       "<div>\n",
       "<style scoped>\n",
       "    .dataframe tbody tr th:only-of-type {\n",
       "        vertical-align: middle;\n",
       "    }\n",
       "\n",
       "    .dataframe tbody tr th {\n",
       "        vertical-align: top;\n",
       "    }\n",
       "\n",
       "    .dataframe thead th {\n",
       "        text-align: right;\n",
       "    }\n",
       "</style>\n",
       "<table border=\"1\" class=\"dataframe\">\n",
       "  <thead>\n",
       "    <tr style=\"text-align: right;\">\n",
       "      <th></th>\n",
       "      <th>player_id</th>\n",
       "      <th>rounds</th>\n",
       "      <th>score</th>\n",
       "      <th>price</th>\n",
       "      <th>price_change</th>\n",
       "      <th>percentage_change</th>\n",
       "      <th>prevscore</th>\n",
       "      <th>prevprice</th>\n",
       "    </tr>\n",
       "  </thead>\n",
       "  <tbody>\n",
       "    <tr>\n",
       "      <th>0</th>\n",
       "      <td>1</td>\n",
       "      <td>1</td>\n",
       "      <td>6.6</td>\n",
       "      <td>1000000</td>\n",
       "      <td>-30000</td>\n",
       "      <td>-0.030000</td>\n",
       "      <td>0.0</td>\n",
       "      <td>0</td>\n",
       "    </tr>\n",
       "    <tr>\n",
       "      <th>1</th>\n",
       "      <td>1</td>\n",
       "      <td>2</td>\n",
       "      <td>1.1</td>\n",
       "      <td>970000</td>\n",
       "      <td>-80000</td>\n",
       "      <td>-0.082474</td>\n",
       "      <td>6.6</td>\n",
       "      <td>1000000</td>\n",
       "    </tr>\n",
       "    <tr>\n",
       "      <th>2</th>\n",
       "      <td>1</td>\n",
       "      <td>3</td>\n",
       "      <td>2.2</td>\n",
       "      <td>890000</td>\n",
       "      <td>-130000</td>\n",
       "      <td>-0.146067</td>\n",
       "      <td>1.1</td>\n",
       "      <td>970000</td>\n",
       "    </tr>\n",
       "    <tr>\n",
       "      <th>3</th>\n",
       "      <td>1</td>\n",
       "      <td>4</td>\n",
       "      <td>17.6</td>\n",
       "      <td>760000</td>\n",
       "      <td>10000</td>\n",
       "      <td>0.013158</td>\n",
       "      <td>2.2</td>\n",
       "      <td>890000</td>\n",
       "    </tr>\n",
       "    <tr>\n",
       "      <th>4</th>\n",
       "      <td>1</td>\n",
       "      <td>5</td>\n",
       "      <td>1.0</td>\n",
       "      <td>770000</td>\n",
       "      <td>-40000</td>\n",
       "      <td>-0.051948</td>\n",
       "      <td>17.6</td>\n",
       "      <td>760000</td>\n",
       "    </tr>\n",
       "    <tr>\n",
       "      <th>5</th>\n",
       "      <td>1</td>\n",
       "      <td>6</td>\n",
       "      <td>16.0</td>\n",
       "      <td>730000</td>\n",
       "      <td>60000</td>\n",
       "      <td>0.082192</td>\n",
       "      <td>1.0</td>\n",
       "      <td>770000</td>\n",
       "    </tr>\n",
       "    <tr>\n",
       "      <th>6</th>\n",
       "      <td>1</td>\n",
       "      <td>7</td>\n",
       "      <td>13.2</td>\n",
       "      <td>790000</td>\n",
       "      <td>100000</td>\n",
       "      <td>0.126582</td>\n",
       "      <td>16.0</td>\n",
       "      <td>730000</td>\n",
       "    </tr>\n",
       "  </tbody>\n",
       "</table>\n",
       "</div>"
      ],
      "text/plain": [
       "   player_id  rounds  score    price  price_change  percentage_change  \\\n",
       "0          1       1    6.6  1000000        -30000          -0.030000   \n",
       "1          1       2    1.1   970000        -80000          -0.082474   \n",
       "2          1       3    2.2   890000       -130000          -0.146067   \n",
       "3          1       4   17.6   760000         10000           0.013158   \n",
       "4          1       5    1.0   770000        -40000          -0.051948   \n",
       "5          1       6   16.0   730000         60000           0.082192   \n",
       "6          1       7   13.2   790000        100000           0.126582   \n",
       "\n",
       "   prevscore  prevprice  \n",
       "0        0.0          0  \n",
       "1        6.6    1000000  \n",
       "2        1.1     970000  \n",
       "3        2.2     890000  \n",
       "4       17.6     760000  \n",
       "5        1.0     770000  \n",
       "6       16.0     730000  "
      ]
     },
     "execution_count": 11,
     "metadata": {},
     "output_type": "execute_result"
    }
   ],
   "source": [
    "player_list=[]\n",
    "round_list=[]\n",
    "price_list=[]\n",
    "price_change_list=[]\n",
    "percantage_change_list=[]\n",
    "score_list=[]\n",
    "prevscore_list=[]\n",
    "prevprice_list=[]\n",
    "for i in range(len(stats.prices)):\n",
    "    player=stats.player_id[i]\n",
    "    for key,value in stats.prices[i].items():\n",
    "        round=int(key)\n",
    "        try:\n",
    "            price=stats.prices[i][str(round)]\n",
    "            price_change=stats.prices[i][str(round+1)]-stats.prices[i][str(round)]\n",
    "            percentage_change=(stats.prices[i][str(round+1)]-stats.prices[i][str(round)])/stats.prices[i][str(round)]\n",
    "        except KeyError:\n",
    "            price=0\n",
    "            price_change=0\n",
    "            percentage_change=0;\n",
    "        player_list.append(player)\n",
    "        round_list.append(round)\n",
    "        price_list.append(price)\n",
    "        price_change_list.append(price_change)\n",
    "        percantage_change_list.append(percentage_change)\n",
    "        try:\n",
    "            score=stats.scores[i][str(round)]\n",
    "        except KeyError:\n",
    "            score=0\n",
    "        score_list.append(score)\n",
    "        try:\n",
    "            prevscore=stats.scores[i][str(round-1)]\n",
    "            prevprice=stats.prices[i][str(round-1)]\n",
    "        except KeyError:\n",
    "            prevscore=0\n",
    "            prevprice=0\n",
    "        prevscore_list.append(prevscore)\n",
    "        prevprice_list.append(prevprice)\n",
    "        \n",
    "change=pd.DataFrame({'player_id':player_list,'rounds':round_list,'score':score_list,'price':price_list,'price_change':price_change_list,'percentage_change':percantage_change_list,'prevscore':prevscore_list,'prevprice':prevprice_list})\n",
    "change[0:7]\n",
    " \n",
    "\n",
    "\n"
   ]
  },
  {
   "cell_type": "markdown",
   "metadata": {},
   "source": [
    "#### check correlation matrix of last round score, previous 5 rounds avg score and percentage change"
   ]
  },
  {
   "cell_type": "markdown",
   "metadata": {},
   "source": [
    "#### Let's visualize first 5 players price changes"
   ]
  },
  {
   "cell_type": "code",
   "execution_count": 12,
   "metadata": {},
   "outputs": [
    {
     "name": "stderr",
     "output_type": "stream",
     "text": [
      "/home/dogacan/.local/lib/python3.6/site-packages/ipykernel_launcher.py:4: UserWarning: Boolean Series key will be reindexed to match DataFrame index.\n",
      "  after removing the cwd from sys.path.\n"
     ]
    },
    {
     "data": {
      "text/plain": [
       "<seaborn.axisgrid.FacetGrid at 0x7fb4bb88cc88>"
      ]
     },
     "execution_count": 12,
     "metadata": {},
     "output_type": "execute_result"
    },
    {
     "data": {
      "image/png": "[encoded data removed]",
      "text/plain": [
       "<Figure size 450.1x360 with 1 Axes>"
      ]
     },
     "metadata": {},
     "output_type": "display_data"
    }
   ],
   "source": [
    "sns.relplot(x=\"rounds\", y=\"price\", \n",
    "            hue=\"player_id\", \n",
    "            facet_kws=dict(sharex=False),\n",
    "            kind=\"line\", legend=\"full\", data=change[change.rounds<=30][change.player_id<=5])\n",
    "plt.show()"
   ]
  },
  {
   "cell_type": "markdown",
   "metadata": {},
   "source": [
    "#### I want to predict player price. I take rounds 2-25 as train set and remaining rounds as test set. I will train model with player_id, rounds, prevscore and prevprice"
   ]
  },
  {
   "cell_type": "code",
   "execution_count": 13,
   "metadata": {},
   "outputs": [
    {
     "name": "stderr",
     "output_type": "stream",
     "text": [
      "/home/dogacan/.local/lib/python3.6/site-packages/ipykernel_launcher.py:1: UserWarning: Boolean Series key will be reindexed to match DataFrame index.\n",
      "  \"\"\"Entry point for launching an IPython kernel.\n",
      "/home/dogacan/.local/lib/python3.6/site-packages/ipykernel_launcher.py:2: UserWarning: Boolean Series key will be reindexed to match DataFrame index.\n",
      "  \n",
      "/home/dogacan/.local/lib/python3.6/site-packages/ipykernel_launcher.py:3: UserWarning: Boolean Series key will be reindexed to match DataFrame index.\n",
      "  This is separate from the ipykernel package so we can avoid doing imports until\n",
      "/home/dogacan/.local/lib/python3.6/site-packages/ipykernel_launcher.py:4: UserWarning: Boolean Series key will be reindexed to match DataFrame index.\n",
      "  after removing the cwd from sys.path.\n"
     ]
    },
    {
     "data": {
      "text/html": [
       "<div>\n",
       "<style scoped>\n",
       "    .dataframe tbody tr th:only-of-type {\n",
       "        vertical-align: middle;\n",
       "    }\n",
       "\n",
       "    .dataframe tbody tr th {\n",
       "        vertical-align: top;\n",
       "    }\n",
       "\n",
       "    .dataframe thead th {\n",
       "        text-align: right;\n",
       "    }\n",
       "</style>\n",
       "<table border=\"1\" class=\"dataframe\">\n",
       "  <thead>\n",
       "    <tr style=\"text-align: right;\">\n",
       "      <th></th>\n",
       "      <th>player_id</th>\n",
       "      <th>rounds</th>\n",
       "      <th>prevscore</th>\n",
       "      <th>prevprice</th>\n",
       "    </tr>\n",
       "  </thead>\n",
       "  <tbody>\n",
       "    <tr>\n",
       "      <th>1</th>\n",
       "      <td>1</td>\n",
       "      <td>2</td>\n",
       "      <td>6.6</td>\n",
       "      <td>1000000</td>\n",
       "    </tr>\n",
       "    <tr>\n",
       "      <th>2</th>\n",
       "      <td>1</td>\n",
       "      <td>3</td>\n",
       "      <td>1.1</td>\n",
       "      <td>970000</td>\n",
       "    </tr>\n",
       "    <tr>\n",
       "      <th>3</th>\n",
       "      <td>1</td>\n",
       "      <td>4</td>\n",
       "      <td>2.2</td>\n",
       "      <td>890000</td>\n",
       "    </tr>\n",
       "    <tr>\n",
       "      <th>4</th>\n",
       "      <td>1</td>\n",
       "      <td>5</td>\n",
       "      <td>17.6</td>\n",
       "      <td>760000</td>\n",
       "    </tr>\n",
       "    <tr>\n",
       "      <th>5</th>\n",
       "      <td>1</td>\n",
       "      <td>6</td>\n",
       "      <td>1.0</td>\n",
       "      <td>770000</td>\n",
       "    </tr>\n",
       "  </tbody>\n",
       "</table>\n",
       "</div>"
      ],
      "text/plain": [
       "   player_id  rounds  prevscore  prevprice\n",
       "1          1       2        6.6    1000000\n",
       "2          1       3        1.1     970000\n",
       "3          1       4        2.2     890000\n",
       "4          1       5       17.6     760000\n",
       "5          1       6        1.0     770000"
      ]
     },
     "execution_count": 13,
     "metadata": {},
     "output_type": "execute_result"
    }
   ],
   "source": [
    "train_df=change[change.rounds>1][change.rounds<=25].drop(['price','price_change','percentage_change','score'],axis=1)\n",
    "target=change[change.rounds>1][change.rounds<=25].price\n",
    "test_df=change[change.rounds>25][change.rounds<34].drop(['price','price_change','percentage_change','score'],axis=1)\n",
    "test_target=change[change.rounds>25][change.rounds<34].price\n",
    "train_df.head()\n"
   ]
  },
  {
   "cell_type": "markdown",
   "metadata": {},
   "source": [
    "#### linear regression gives:"
   ]
  },
  {
   "cell_type": "code",
   "execution_count": 15,
   "metadata": {},
   "outputs": [
    {
     "name": "stdout",
     "output_type": "stream",
     "text": [
      "148458.04534842176\n"
     ]
    }
   ],
   "source": [
    "import statsmodels.formula.api as sm\n",
    "result = sm.ols(formula='target ~ rounds+ prevscore + prevprice+ C(player_id)', data=train_df).fit()\n",
    "predict=result.predict(test_df)\n",
    "from sklearn.metrics import mean_absolute_error\n",
    "print(mean_absolute_error(test_target, predict))"
   ]
  },
  {
   "cell_type": "markdown",
   "metadata": {},
   "source": [
    "#### Random Forest has better accuracy:"
   ]
  },
  {
   "cell_type": "code",
   "execution_count": 16,
   "metadata": {},
   "outputs": [
    {
     "name": "stderr",
     "output_type": "stream",
     "text": [
      "/home/dogacan/.local/lib/python3.6/site-packages/sklearn/ensemble/weight_boosting.py:29: DeprecationWarning: numpy.core.umath_tests is an internal NumPy module and should not be imported. It will be removed in a future NumPy release.\n",
      "  from numpy.core.umath_tests import inner1d\n"
     ]
    },
    {
     "data": {
      "text/plain": [
       "RandomForestRegressor(bootstrap=True, criterion='mse', max_depth=None,\n",
       "           max_features='auto', max_leaf_nodes=None,\n",
       "           min_impurity_decrease=0.0, min_impurity_split=None,\n",
       "           min_samples_leaf=1, min_samples_split=2,\n",
       "           min_weight_fraction_leaf=0.0, n_estimators=500, n_jobs=1,\n",
       "           oob_score=False, random_state=1, verbose=0, warm_start=False)"
      ]
     },
     "execution_count": 16,
     "metadata": {},
     "output_type": "execute_result"
    },
    {
     "name": "stdout",
     "output_type": "stream",
     "text": [
      "87393.27098540145\n"
     ]
    }
   ],
   "source": [
    "from sklearn.ensemble import RandomForestRegressor\n",
    "model = RandomForestRegressor(n_estimators=500, random_state=1)\n",
    "model.fit(train_df, target)\n",
    "preds = model.predict(test_df)\n",
    "print(mean_absolute_error(test_target, preds))\n"
   ]
  },
  {
   "cell_type": "code",
   "execution_count": null,
   "metadata": {},
   "outputs": [],
   "source": []
  }
 ],
 "metadata": {
  "kernelspec": {
   "display_name": "Python 3",
   "language": "python",
   "name": "python3"
  },
  "language_info": {
   "codemirror_mode": {
    "name": "ipython",
    "version": 3
   },
   "file_extension": ".py",
   "mimetype": "text/x-python",
   "name": "python",
   "nbconvert_exporter": "python",
   "pygments_lexer": "ipython3",
   "version": "3.6.8"
  }
 },
 "nbformat": 4,
 "nbformat_minor": 2
}
